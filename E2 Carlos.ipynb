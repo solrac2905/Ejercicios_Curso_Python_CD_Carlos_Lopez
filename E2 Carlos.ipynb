{
 "cells": [
  {
   "cell_type": "markdown",
   "metadata": {},
   "source": [
    "## Ejercicio 2\n",
    "### Pandas\n",
    "\n",
    "+ Manipulación de dataframes\n",
    "+ Limpieza de datos (funciones lambda)\n",
    "+ Conclusiones sobre los datos (pivots)\n",
    "\n",
    "El dataset de este ejercicio es un detalle de los atributos de todos los futbolistas incluidos en la base de datos de FIFA 19. Tenemos variables como nacionalidad, peso, altura, tambien variables de rendimiento como calificacion general (overall, potential) entre otros. El dataset esta dividido en 2 bases el objetivo de este ejercicio es construir una sola base y obtener insights"
   ]
  },
  {
   "cell_type": "markdown",
   "metadata": {},
   "source": [
    "### REALIZADO POR: Fernanda Castro"
   ]
  },
  {
   "cell_type": "code",
   "execution_count": null,
   "metadata": {},
   "outputs": [],
   "source": [
    "import requests, zipfile \n",
    "from urllib.request import urlopen\n",
    "from io import BytesIO\n",
    "import pandas as pd\n",
    "import numpy as np"
   ]
  },
  {
   "cell_type": "code",
   "execution_count": null,
   "metadata": {},
   "outputs": [],
   "source": [
    "zip_file_url = 'https://github.com/vanejaime/Curso_Python_CD/raw/master/datasets/FIFA19.csv.zip'\n",
    "remote_zip_file = urlopen(zip_file_url)\n",
    "zipinmemory = BytesIO(remote_zip_file.read())\n",
    "zip_file = zipfile.ZipFile(zipinmemory)\n",
    "\n",
    "data1 = pd.read_csv(zip_file.open(zip_file.namelist()[0]),encoding='850') #si tienen problemas intentar encoding='utf-8' o quitar la opcion encoding\n",
    "data2 = pd.read_csv(zip_file.open(zip_file.namelist()[1]),encoding='850')\n",
    "dict_position = pd.read_csv(zip_file.open(zip_file.namelist()[2]),encoding='850')"
   ]
  },
  {
   "cell_type": "code",
   "execution_count": null,
   "metadata": {},
   "outputs": [],
   "source": [
    "zip_file.namelist()"
   ]
  },
  {
   "cell_type": "code",
   "execution_count": null,
   "metadata": {},
   "outputs": [],
   "source": [
    "data1.head()"
   ]
  },
  {
   "cell_type": "code",
   "execution_count": null,
   "metadata": {},
   "outputs": [],
   "source": [
    "data2.head()"
   ]
  },
  {
   "cell_type": "code",
   "execution_count": null,
   "metadata": {},
   "outputs": [],
   "source": [
    "dict_position.head()"
   ]
  },
  {
   "cell_type": "markdown",
   "metadata": {},
   "source": [
    "### PARTE A.\n",
    "\n",
    "1. Unir las bases data1 y data2.\n",
    "2. Eliminar columnas innecesarias.\n",
    "3. Establecer como indice del dataframe la columna ID (id único para cada futbolista)\n",
    "4. Crear una variable \"Significado\" esta variable corresponde al significado que tienen las siglas de la columna Position, el significado de cada sigla lo encuentran en el dataframe dict_position\n",
    "5. A los valores vacios ó en 0 de la columna Release Clause asignarles el min de dicha columna (imprimir cuantos NaN hay)\n",
    "6. A los valores vacios ó en 0 de la columna Value asignarles la media de dicha columna (imprimir cuantos NaN hay)\n",
    "7. A los valores vacios ó en 0 de la columna Wage asignarles el maximo de dicha columna (imprimir cuantos NaN hay)\n",
    "8. Arreglar la columna Height, convertirla a cm (actualmente en in)\n",
    "9. Arreglar la columna Weight, convertirla a kg (actualmente en lbs)"
   ]
  },
  {
   "cell_type": "code",
   "execution_count": null,
   "metadata": {},
   "outputs": [],
   "source": [
    "#1. Union\n",
    "union = pd.merge(data1, data2, on='ID', how='inner')\n",
    "union.head()"
   ]
  },
  {
   "cell_type": "code",
   "execution_count": null,
   "metadata": {},
   "outputs": [],
   "source": [
    "#2. Eliminar columnas innecesarias\n",
    "union.drop(['Row_x','Row_y'], axis=1, inplace=True)\n",
    "#3. Indice va a ser el ID del jugador\n",
    "union.set_index('ID', inplace=True)\n",
    "union.head()"
   ]
  },
  {
   "cell_type": "code",
   "execution_count": null,
   "metadata": {},
   "outputs": [],
   "source": [
    "#4. Significado\n",
    "posi = pd.DataFrame(dict_position)\n",
    "posi.head()\n",
    "union2 = pd.merge(union, posi, on='Position', how='left')\n",
    "union2.head()"
   ]
  },
  {
   "cell_type": "code",
   "execution_count": null,
   "metadata": {},
   "outputs": [],
   "source": [
    "#5. A los valores vacios ó en 0 de la columna Release Clause asignarles el minimo de dicha columna\n",
    "print(union2['Release Clause(Eur)'].isnull().sum())\n",
    "union2['Release Clause(Eur)'].fillna(union2['Release Clause(Eur)'].min())\n",
    "union2['Release Clause(Eur)'].replace(0,union2['Release Clause(Eur)'].min())"
   ]
  },
  {
   "cell_type": "code",
   "execution_count": null,
   "metadata": {},
   "outputs": [],
   "source": [
    "#6. A los valores vacios ó en 0 de la columna Value asignarles la media de dicha columna (imprimir cuantos NaN hay)\n",
    "print(union2['Value(Eur)'].isnull().sum())\n",
    "union2['Value(Eur)'].fillna(union2['Value(Eur)'].mean())\n",
    "union2['Value(Eur)'].replace(0,union2['Value(Eur)'].mean())"
   ]
  },
  {
   "cell_type": "code",
   "execution_count": null,
   "metadata": {},
   "outputs": [],
   "source": [
    "#7. A los valores vacios ó en 0 de la columna Wage asignarles el maximo de dicha columna (imprimir cuantos NaN hay)\n",
    "print(union2['Wage(Eur)'].isnull().sum())\n",
    "union2['Wage(Eur)'].fillna(union2['Wage(Eur)'].mean())\n",
    "union2['Wage(Eur)'].replace(0,union2['Wage(Eur)'].mean())"
   ]
  },
  {
   "cell_type": "code",
   "execution_count": null,
   "metadata": {},
   "outputs": [],
   "source": [
    "#8. Arreglar la columna Height, convertirla a cm (actualmente en in)\n",
    "union2['Height(cm)'] = union2['Height(in)'] * 2.54\n",
    "union2.drop(['Height(in)'], axis=1, inplace=True)"
   ]
  },
  {
   "cell_type": "code",
   "execution_count": null,
   "metadata": {},
   "outputs": [],
   "source": [
    "#9. Arreglar la columna Weight, convertirla a kg (actualmente en lbs)\n",
    "union2['Weight(kg)'] = union2['Weight(lbs)'] * 0.453592\n",
    "union2.drop(['Weight(lbs)'], axis=1, inplace=True)"
   ]
  },
  {
   "cell_type": "code",
   "execution_count": null,
   "metadata": {},
   "outputs": [],
   "source": [
    "union2.head()"
   ]
  },
  {
   "cell_type": "markdown",
   "metadata": {},
   "source": [
    "### PARTE B.\n",
    "Hint: Pivot, Counts, max, min, indexación.\n",
    "\n",
    "Conteste las siguientes preguntas:\n",
    "1. Cual es el jugador mas y menos pesado?\n",
    "2. Cual es el jugador mas y menos alto?\n",
    "3. Cual es el jugador mas y menos viejo?\n",
    "4. AntiTop 10 de jugadores según overall\n",
    "5. Cual es la distribución de jugadores por País? (Tabla)\n",
    "6. Cual es la distribución de jugadores por Edad? (Tabla)\n",
    "7. Cual es la distribución de jugadores por Posición (columna Significado)? (Tabla)\n",
    "8. Cual es el promedio de altura, peso por país\n",
    "9. Cual es el promedio de altura, peso por equipo\n",
    "10. Cual es el equipo mas caro egún el salario (wage)\n",
    "11. Cual es el equipo mas economico según el salario (wage)\n",
    "12. Cual es la distribución de jugadores por pie preferido?\n",
    "13. Cual es la relacion entre el país de origen y la posición?\n",
    "14. Cual es numero de camiseta mas y menos usado?\n",
    "15. Cual es el equipo que mas cede jugadores a otros equipos?\n",
    "16. Cual es el equipo que menos cede jugadores a otros equipos?\n",
    "17. Cual es el equipo que mas recibe jugadores de otros equipos?\n",
    "18. Cual es el promedio de salario (wage) por posicion (significado)?\n",
    "19. Cual es el equipo con mas valor en el mercado (Value)?\n",
    "20. Cual es el equipo con menos valor en el mercado (Value)?\n",
    "21. Top 7 de jugadores de clausulas de permanencia, muestre al equipo al que pertenece. (Release Clause(Eur))\n",
    "22. Cual es el país con los mejores jugadores (overrall y potential) (Tabla)\n",
    "23. Cual es el país con los peores jugadores (overrall y potential) (Tabla)\n",
    "24. Cree que hay relación entre el Valor del jugador y el país de origen?\n",
    "25. Cree que hay relación entre el Valor del jugador y la edad?\n",
    "26. Haga un histograma sobre la variable Contract Valid Until, que dice este histograma?\n",
    "27. Cual es el promedio de edad por posición?\n",
    "28. Cual es el promedio de peso por posición?\n",
    "29. Cual es el promedio de altura por posición?\n",
    "30. Agregue cualquier otra conclusión que detecte en el análisis de la base anterior"
   ]
  },
  {
   "cell_type": "code",
   "execution_count": null,
   "metadata": {},
   "outputs": [],
   "source": [
    "filtro1 = union2['Weight(kg)']==min(union2['Weight(kg)'])or union2['Weight(kg)']==max(union2['Weight(kg)'])\n",
    "union2.where(filtro1)"
   ]
  },
  {
   "cell_type": "code",
   "execution_count": null,
   "metadata": {},
   "outputs": [],
   "source": []
  }
 ],
 "metadata": {
  "kernelspec": {
   "display_name": "Python 3",
   "language": "python",
   "name": "python3"
  },
  "language_info": {
   "codemirror_mode": {
    "name": "ipython",
    "version": 3
   },
   "file_extension": ".py",
   "mimetype": "text/x-python",
   "name": "python",
   "nbconvert_exporter": "python",
   "pygments_lexer": "ipython3",
   "version": "3.7.3"
  }
 },
 "nbformat": 4,
 "nbformat_minor": 2
}
